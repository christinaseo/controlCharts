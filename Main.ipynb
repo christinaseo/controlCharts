{
 "cells": [
  {
   "cell_type": "markdown",
   "metadata": {},
   "source": [
    "# Control Charts"
   ]
  },
  {
   "cell_type": "code",
   "execution_count": 50,
   "metadata": {},
   "outputs": [],
   "source": [
    "import pyspc\n",
    "import numpy as np\n",
    "import matplotlib.pyplot as plt\n",
    "import pandas as pd"
   ]
  },
  {
   "cell_type": "markdown",
   "metadata": {},
   "source": [
    "## Import the data"
   ]
  },
  {
   "cell_type": "code",
   "execution_count": 66,
   "metadata": {},
   "outputs": [],
   "source": [
    "df = pd.read_csv('ControlChartData.csv')\n",
    "pickTimes = df.tPickTime\n",
    "comment = df.Comments\n",
    "#print (pickTimes)"
   ]
  },
  {
   "cell_type": "markdown",
   "metadata": {},
   "source": [
    "## Store the data into arrays, find the difference of the times for the I-MR chart "
   ]
  },
  {
   "cell_type": "code",
   "execution_count": 67,
   "metadata": {},
   "outputs": [],
   "source": [
    "difference =[]\n",
    "sampleNum = []\n",
    "\n",
    "for y in range (1, (np.size(pickTimes))):\n",
    "    sampleNum.append(y)\n",
    "\n",
    "for x in range (0,(np.size(pickTimes)-1)):\n",
    "    difference.append(np.abs(pickTimes[x]-pickTimes[x+1]))"
   ]
  },
  {
   "cell_type": "code",
   "execution_count": 68,
   "metadata": {},
   "outputs": [],
   "source": [
    "coordinates = zip(sampleNum, difference)"
   ]
  },
  {
   "cell_type": "markdown",
   "metadata": {},
   "source": [
    "## Find LCL and UCL "
   ]
  },
  {
   "cell_type": "code",
   "execution_count": 69,
   "metadata": {},
   "outputs": [],
   "source": [
    "center = np.mean(difference)\n",
    "d2 = 1.128\n",
    "wl = 0.044319\n",
    "wu = 3.169822\n",
    "sd = center/d2\n",
    "lcl = sd*wl\n",
    "ucl = sd*wu"
   ]
  },
  {
   "cell_type": "code",
   "execution_count": 70,
   "metadata": {},
   "outputs": [
    {
     "name": "stdout",
     "output_type": "stream",
     "text": [
      "0.0250092333773996\n",
      "1.7887321050297966\n"
     ]
    }
   ],
   "source": [
    "print(lcl)\n",
    "print(ucl)"
   ]
  },
  {
   "cell_type": "markdown",
   "metadata": {},
   "source": [
    "## I-MR Chart "
   ]
  },
  {
   "cell_type": "code",
   "execution_count": 71,
   "metadata": {},
   "outputs": [
    {
     "data": {
      "image/png": "[encoded data removed]",
      "text/plain": [
       "<Figure size 432x288 with 1 Axes>"
      ]
     },
     "metadata": {},
     "output_type": "display_data"
    }
   ],
   "source": [
    "plt.axhline(y=lcl, color='r', linestyle='-')\n",
    "plt.axhline(y=ucl, color='r', linestyle='-')\n",
    "plt.plot(sampleNum, difference)\n",
    "plt.show()"
   ]
  },
  {
   "cell_type": "markdown",
   "metadata": {},
   "source": [
    "## Look for Outliers "
   ]
  },
  {
   "cell_type": "markdown",
   "metadata": {},
   "source": [
    "Find the points above the upper control limit, and print out the corresponding comments"
   ]
  },
  {
   "cell_type": "code",
   "execution_count": 75,
   "metadata": {},
   "outputs": [
    {
     "name": "stdout",
     "output_type": "stream",
     "text": [
      "Number of points above UCL: 12\n",
      "12\n",
      "84                                          not finished\n",
      "131                                                  NaN\n",
      "132                                                  NaN\n",
      "134                                                  NaN\n",
      "153    Used an old cart, so many items were already p...\n",
      "186                Throughout was talking to other staff\n",
      "262                                                  NaN\n",
      "297                                         1 phone call\n",
      "303                                                  NaN\n",
      "320                                                  NaN\n",
      "326                                        2 phone calls\n",
      "352                                                  NaN\n",
      "Name: Comments, dtype: object\n"
     ]
    }
   ],
   "source": [
    "aboveUpper = np.array(difference)[np.array(difference)>ucl]\n",
    "#print(aboveUpper)\n",
    "print (\"Number of points above UCL:\",np.size(aboveUpper))\n",
    "\n",
    "aboveUpperIndex = np.where(difference > ucl)\n",
    "#print(aboveUpperIndex)\n",
    "\n",
    "for x in aboveUpperIndex:\n",
    "    print(comment[x])"
   ]
  },
  {
   "cell_type": "markdown",
   "metadata": {},
   "source": [
    "Find the points below the lower control limit, and print out the corresponding comments"
   ]
  },
  {
   "cell_type": "code",
   "execution_count": 76,
   "metadata": {},
   "outputs": [
    {
     "name": "stdout",
     "output_type": "stream",
     "text": [
      "Number of points below LCL: 16\n",
      "89                                                   NaN\n",
      "109                                                  NaN\n",
      "113                                                  NaN\n",
      "203                                                  NaN\n",
      "221                                                  NaN\n",
      "238                                                  NaN\n",
      "252           GOR-2018-8036\\rGOR-2018-8003 done together\n",
      "254                                                  NaN\n",
      "296    Was supposed to be picked by the afternoon shi...\n",
      "300    Interruption during disposable picking to clar...\n",
      "315                                                  NaN\n",
      "318                                                  NaN\n",
      "330                            picked together with 8334\n",
      "337                              done together with 8194\n",
      "356                                                  NaN\n",
      "367       1 phone call during disposable picking phase. \n",
      "Name: Comments, dtype: object\n"
     ]
    }
   ],
   "source": [
    "belowLower = np.array(difference)[np.array(difference)<lcl]\n",
    "#print(belowLower)\n",
    "print (\"Number of points below LCL:\",np.size(belowLower))\n",
    "\n",
    "\n",
    "belowLowerIndex = np.where(difference < lcl)\n",
    "#print(belowLowerIndex)\n",
    "\n",
    "for y in belowLowerIndex:\n",
    "    print(comment[y])"
   ]
  },
  {
   "cell_type": "code",
   "execution_count": null,
   "metadata": {},
   "outputs": [],
   "source": []
  }
 ],
 "metadata": {
  "kernelspec": {
   "display_name": "Python 3",
   "language": "python",
   "name": "python3"
  },
  "language_info": {
   "codemirror_mode": {
    "name": "ipython",
    "version": 3
   },
   "file_extension": ".py",
   "mimetype": "text/x-python",
   "name": "python",
   "nbconvert_exporter": "python",
   "pygments_lexer": "ipython3",
   "version": "3.6.5"
  }
 },
 "nbformat": 4,
 "nbformat_minor": 2
}
